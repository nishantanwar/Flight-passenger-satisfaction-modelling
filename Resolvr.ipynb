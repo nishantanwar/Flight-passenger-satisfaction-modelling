{
  "nbformat": 4,
  "nbformat_minor": 0,
  "metadata": {
    "colab": {
      "name": "Resolvr.ipynb",
      "provenance": []
    },
    "kernelspec": {
      "name": "python3",
      "display_name": "Python 3"
    }
  },
  "cells": [
    {
      "cell_type": "code",
      "metadata": {
        "id": "oLGbli4vC5Kb"
      },
      "source": [
        "import numpy as np\n",
        "import pandas as pd"
      ],
      "execution_count": null,
      "outputs": []
    },
    {
      "cell_type": "code",
      "metadata": {
        "scrolled": true,
        "id": "g0Zysom6B8fi",
        "colab": {
          "base_uri": "https://localhost:8080/",
          "height": 360
        },
        "outputId": "f61bc0c3-089d-42b6-c04d-12b0fc8caa15"
      },
      "source": [
        "raw_data = pd.read_excel('/content/drive/My Drive/Datasets/Worksheet in Analytics_Case_Resolvr2020.xlsx', sheet_name = 2)\n",
        "data = raw_data.copy()\n",
        "data.head()\n"
      ],
      "execution_count": null,
      "outputs": [
        {
          "output_type": "execute_result",
          "data": {
            "text/html": [
              "<div>\n",
              "<style scoped>\n",
              "    .dataframe tbody tr th:only-of-type {\n",
              "        vertical-align: middle;\n",
              "    }\n",
              "\n",
              "    .dataframe tbody tr th {\n",
              "        vertical-align: top;\n",
              "    }\n",
              "\n",
              "    .dataframe thead th {\n",
              "        text-align: right;\n",
              "    }\n",
              "</style>\n",
              "<table border=\"1\" class=\"dataframe\">\n",
              "  <thead>\n",
              "    <tr style=\"text-align: right;\">\n",
              "      <th></th>\n",
              "      <th>Customer ID</th>\n",
              "      <th>Gender</th>\n",
              "      <th>Customer Type</th>\n",
              "      <th>Age</th>\n",
              "      <th>Type of Travel</th>\n",
              "      <th>Class</th>\n",
              "      <th>Flight Distance</th>\n",
              "      <th>Inflight wifi service</th>\n",
              "      <th>Departure/Arrival time convenient</th>\n",
              "      <th>Ease of Online booking</th>\n",
              "      <th>Gate location</th>\n",
              "      <th>Food and drink</th>\n",
              "      <th>Online boarding</th>\n",
              "      <th>Seat comfort</th>\n",
              "      <th>Inflight entertainment</th>\n",
              "      <th>On-board service</th>\n",
              "      <th>Leg room service</th>\n",
              "      <th>Baggage handling</th>\n",
              "      <th>Checkin service</th>\n",
              "      <th>Inflight service</th>\n",
              "      <th>Cleanliness</th>\n",
              "      <th>Departure Delay in Minutes</th>\n",
              "      <th>Arrival Delay in Minutes</th>\n",
              "      <th>satisfaction</th>\n",
              "    </tr>\n",
              "  </thead>\n",
              "  <tbody>\n",
              "    <tr>\n",
              "      <th>0</th>\n",
              "      <td>70172</td>\n",
              "      <td>Male</td>\n",
              "      <td>Loyal Customer</td>\n",
              "      <td>13</td>\n",
              "      <td>Personal Travel</td>\n",
              "      <td>Eco Plus</td>\n",
              "      <td>460</td>\n",
              "      <td>3.0</td>\n",
              "      <td>4.0</td>\n",
              "      <td>3.0</td>\n",
              "      <td>1.0</td>\n",
              "      <td>5.0</td>\n",
              "      <td>3.0</td>\n",
              "      <td>5.0</td>\n",
              "      <td>5.0</td>\n",
              "      <td>4.0</td>\n",
              "      <td>3.0</td>\n",
              "      <td>4.0</td>\n",
              "      <td>4.0</td>\n",
              "      <td>5.0</td>\n",
              "      <td>5.0</td>\n",
              "      <td>25</td>\n",
              "      <td>18.0</td>\n",
              "      <td>0</td>\n",
              "    </tr>\n",
              "    <tr>\n",
              "      <th>1</th>\n",
              "      <td>5047</td>\n",
              "      <td>Male</td>\n",
              "      <td>disloyal Customer</td>\n",
              "      <td>25</td>\n",
              "      <td>Business travel</td>\n",
              "      <td>Business</td>\n",
              "      <td>235</td>\n",
              "      <td>3.0</td>\n",
              "      <td>2.0</td>\n",
              "      <td>3.0</td>\n",
              "      <td>3.0</td>\n",
              "      <td>1.0</td>\n",
              "      <td>3.0</td>\n",
              "      <td>1.0</td>\n",
              "      <td>1.0</td>\n",
              "      <td>1.0</td>\n",
              "      <td>5.0</td>\n",
              "      <td>3.0</td>\n",
              "      <td>1.0</td>\n",
              "      <td>4.0</td>\n",
              "      <td>1.0</td>\n",
              "      <td>1</td>\n",
              "      <td>6.0</td>\n",
              "      <td>0</td>\n",
              "    </tr>\n",
              "    <tr>\n",
              "      <th>2</th>\n",
              "      <td>110028</td>\n",
              "      <td>Female</td>\n",
              "      <td>Loyal Customer</td>\n",
              "      <td>26</td>\n",
              "      <td>Business travel</td>\n",
              "      <td>Business</td>\n",
              "      <td>1142</td>\n",
              "      <td>2.0</td>\n",
              "      <td>2.0</td>\n",
              "      <td>2.0</td>\n",
              "      <td>2.0</td>\n",
              "      <td>5.0</td>\n",
              "      <td>5.0</td>\n",
              "      <td>5.0</td>\n",
              "      <td>5.0</td>\n",
              "      <td>4.0</td>\n",
              "      <td>3.0</td>\n",
              "      <td>4.0</td>\n",
              "      <td>4.0</td>\n",
              "      <td>4.0</td>\n",
              "      <td>5.0</td>\n",
              "      <td>0</td>\n",
              "      <td>0.0</td>\n",
              "      <td>1</td>\n",
              "    </tr>\n",
              "    <tr>\n",
              "      <th>3</th>\n",
              "      <td>24026</td>\n",
              "      <td>Female</td>\n",
              "      <td>Loyal Customer</td>\n",
              "      <td>25</td>\n",
              "      <td>Business travel</td>\n",
              "      <td>Business</td>\n",
              "      <td>562</td>\n",
              "      <td>2.0</td>\n",
              "      <td>5.0</td>\n",
              "      <td>5.0</td>\n",
              "      <td>5.0</td>\n",
              "      <td>2.0</td>\n",
              "      <td>2.0</td>\n",
              "      <td>2.0</td>\n",
              "      <td>2.0</td>\n",
              "      <td>2.0</td>\n",
              "      <td>5.0</td>\n",
              "      <td>3.0</td>\n",
              "      <td>1.0</td>\n",
              "      <td>4.0</td>\n",
              "      <td>2.0</td>\n",
              "      <td>11</td>\n",
              "      <td>9.0</td>\n",
              "      <td>0</td>\n",
              "    </tr>\n",
              "    <tr>\n",
              "      <th>4</th>\n",
              "      <td>119299</td>\n",
              "      <td>Male</td>\n",
              "      <td>Loyal Customer</td>\n",
              "      <td>61</td>\n",
              "      <td>Business travel</td>\n",
              "      <td>Business</td>\n",
              "      <td>214</td>\n",
              "      <td>3.0</td>\n",
              "      <td>3.0</td>\n",
              "      <td>3.0</td>\n",
              "      <td>3.0</td>\n",
              "      <td>4.0</td>\n",
              "      <td>5.0</td>\n",
              "      <td>5.0</td>\n",
              "      <td>3.0</td>\n",
              "      <td>3.0</td>\n",
              "      <td>4.0</td>\n",
              "      <td>4.0</td>\n",
              "      <td>3.0</td>\n",
              "      <td>3.0</td>\n",
              "      <td>3.0</td>\n",
              "      <td>0</td>\n",
              "      <td>0.0</td>\n",
              "      <td>1</td>\n",
              "    </tr>\n",
              "  </tbody>\n",
              "</table>\n",
              "</div>"
            ],
            "text/plain": [
              "   Customer ID  Gender  ... Arrival Delay in Minutes  satisfaction\n",
              "0        70172    Male  ...                     18.0             0\n",
              "1         5047    Male  ...                      6.0             0\n",
              "2       110028  Female  ...                      0.0             1\n",
              "3        24026  Female  ...                      9.0             0\n",
              "4       119299    Male  ...                      0.0             1\n",
              "\n",
              "[5 rows x 24 columns]"
            ]
          },
          "metadata": {
            "tags": []
          },
          "execution_count": 2
        }
      ]
    },
    {
      "cell_type": "code",
      "metadata": {
        "id": "htsrengwDfcN",
        "colab": {
          "base_uri": "https://localhost:8080/",
          "height": 544
        },
        "outputId": "36c3d93d-f7c6-4343-f8b1-d16ba57d34c9"
      },
      "source": [
        "data.info()"
      ],
      "execution_count": null,
      "outputs": [
        {
          "output_type": "stream",
          "text": [
            "<class 'pandas.core.frame.DataFrame'>\n",
            "RangeIndex: 129880 entries, 0 to 129879\n",
            "Data columns (total 24 columns):\n",
            " #   Column                             Non-Null Count   Dtype  \n",
            "---  ------                             --------------   -----  \n",
            " 0   Customer ID                        129880 non-null  int64  \n",
            " 1   Gender                             129880 non-null  object \n",
            " 2   Customer Type                      129880 non-null  object \n",
            " 3   Age                                129880 non-null  int64  \n",
            " 4   Type of Travel                     129880 non-null  object \n",
            " 5   Class                              129880 non-null  object \n",
            " 6   Flight Distance                    129880 non-null  int64  \n",
            " 7   Inflight wifi service              129876 non-null  float64\n",
            " 8   Departure/Arrival time convenient  129876 non-null  float64\n",
            " 9   Ease of Online booking             129877 non-null  float64\n",
            " 10  Gate location                      129872 non-null  float64\n",
            " 11  Food and drink                     129875 non-null  float64\n",
            " 12  Online boarding                    129874 non-null  float64\n",
            " 13  Seat comfort                       129879 non-null  float64\n",
            " 14  Inflight entertainment             129876 non-null  float64\n",
            " 15  On-board service                   129877 non-null  float64\n",
            " 16  Leg room service                   129878 non-null  float64\n",
            " 17  Baggage handling                   129878 non-null  float64\n",
            " 18  Checkin service                    129877 non-null  float64\n",
            " 19  Inflight service                   129879 non-null  float64\n",
            " 20  Cleanliness                        129878 non-null  float64\n",
            " 21  Departure Delay in Minutes         129880 non-null  int64  \n",
            " 22  Arrival Delay in Minutes           129487 non-null  float64\n",
            " 23  satisfaction                       129880 non-null  int64  \n",
            "dtypes: float64(15), int64(5), object(4)\n",
            "memory usage: 23.8+ MB\n"
          ],
          "name": "stdout"
        }
      ]
    },
    {
      "cell_type": "code",
      "metadata": {
        "id": "hpNXT5lTDwZ5",
        "colab": {
          "base_uri": "https://localhost:8080/",
          "height": 442
        },
        "outputId": "a0f2941d-2e74-44e3-9a58-0ebb244c355d"
      },
      "source": [
        "#missing values\n",
        "missing_values_count = data.isnull().sum()\n",
        "missing_values_count"
      ],
      "execution_count": null,
      "outputs": [
        {
          "output_type": "execute_result",
          "data": {
            "text/plain": [
              "Customer ID                            0\n",
              "Gender                                 0\n",
              "Customer Type                          0\n",
              "Age                                    0\n",
              "Type of Travel                         0\n",
              "Class                                  0\n",
              "Flight Distance                        0\n",
              "Inflight wifi service                  4\n",
              "Departure/Arrival time convenient      4\n",
              "Ease of Online booking                 3\n",
              "Gate location                          8\n",
              "Food and drink                         5\n",
              "Online boarding                        6\n",
              "Seat comfort                           1\n",
              "Inflight entertainment                 4\n",
              "On-board service                       3\n",
              "Leg room service                       2\n",
              "Baggage handling                       2\n",
              "Checkin service                        3\n",
              "Inflight service                       1\n",
              "Cleanliness                            2\n",
              "Departure Delay in Minutes             0\n",
              "Arrival Delay in Minutes             393\n",
              "satisfaction                           0\n",
              "dtype: int64"
            ]
          },
          "metadata": {
            "tags": []
          },
          "execution_count": 4
        }
      ]
    },
    {
      "cell_type": "code",
      "metadata": {
        "id": "SpF5Gez1hLMt",
        "colab": {
          "base_uri": "https://localhost:8080/",
          "height": 34
        },
        "outputId": "b17b6cee-24f3-4952-d18a-514543032c11"
      },
      "source": [
        "# percentage of missing values\n",
        "total_cells = np.product(data.shape)\n",
        "total_missing = missing_values_count.sum()\n",
        "\n",
        "percent_missing = (total_missing/total_cells) * 100\n",
        "percent_missing"
      ],
      "execution_count": null,
      "outputs": [
        {
          "output_type": "execute_result",
          "data": {
            "text/plain": [
              "0.01414767477671697"
            ]
          },
          "metadata": {
            "tags": []
          },
          "execution_count": 5
        }
      ]
    },
    {
      "cell_type": "markdown",
      "metadata": {
        "id": "tMCWHwhuhzXk"
      },
      "source": [
        "The total percent of missing values is only 0.014148 %. So, we can either delete these rows or just simply impute NA values with the statistics."
      ]
    },
    {
      "cell_type": "code",
      "metadata": {
        "id": "Pi2Xo8YdCzpd",
        "colab": {
          "base_uri": "https://localhost:8080/",
          "height": 34
        },
        "outputId": "c3df97ad-a466-41dc-db5b-273577525bc9"
      },
      "source": [
        "#imputing missing values in rating columns using mode since they are discrete values\n",
        "missing_values = ['Inflight wifi service', 'Departure/Arrival time convenient', 'Ease of Online booking', 'Gate location', 'Food and drink', 'Online boarding', 'Seat comfort', 'Inflight entertainment', 'On-board service', 'Leg room service', 'Baggage handling', 'Checkin service', 'Inflight service', 'Cleanliness']\n",
        "print(len(missing_values))\n",
        "for rating in  missing_values:\n",
        "  data[rating] = data[rating].fillna(data[rating].mode()[0])\n"
      ],
      "execution_count": null,
      "outputs": [
        {
          "output_type": "stream",
          "text": [
            "14\n"
          ],
          "name": "stdout"
        }
      ]
    },
    {
      "cell_type": "code",
      "metadata": {
        "id": "pDykGbOWE2fO"
      },
      "source": [
        "#imputing missing values in Arrival delay column since it has floating points\n",
        "data['Arrival Delay in Minutes'] = data['Arrival Delay in Minutes'].fillna(data['Arrival Delay in Minutes'].mean())\n"
      ],
      "execution_count": null,
      "outputs": []
    },
    {
      "cell_type": "code",
      "metadata": {
        "id": "f-CPaK80H62G",
        "colab": {
          "base_uri": "https://localhost:8080/",
          "height": 459
        },
        "outputId": "f9eb0761-8d52-43ae-9731-745d3c6ad9d7"
      },
      "source": [
        "#rechecking missing values\n",
        "missing_values_count = data.isnull().sum()\n",
        "print(missing_values_count)\n",
        "total_cells = np.product(data.shape)\n",
        "total_missing = missing_values_count.sum()\n",
        "\n",
        "percent_missing = (total_missing/total_cells) * 100\n",
        "print('%age missing values:' , percent_missing)"
      ],
      "execution_count": null,
      "outputs": [
        {
          "output_type": "stream",
          "text": [
            "Customer ID                          0\n",
            "Gender                               0\n",
            "Customer Type                        0\n",
            "Age                                  0\n",
            "Type of Travel                       0\n",
            "Class                                0\n",
            "Flight Distance                      0\n",
            "Inflight wifi service                0\n",
            "Departure/Arrival time convenient    0\n",
            "Ease of Online booking               0\n",
            "Gate location                        0\n",
            "Food and drink                       0\n",
            "Online boarding                      0\n",
            "Seat comfort                         0\n",
            "Inflight entertainment               0\n",
            "On-board service                     0\n",
            "Leg room service                     0\n",
            "Baggage handling                     0\n",
            "Checkin service                      0\n",
            "Inflight service                     0\n",
            "Cleanliness                          0\n",
            "Departure Delay in Minutes           0\n",
            "Arrival Delay in Minutes             0\n",
            "satisfaction                         0\n",
            "dtype: int64\n",
            "%age missing values: 0.0\n"
          ],
          "name": "stdout"
        }
      ]
    },
    {
      "cell_type": "code",
      "metadata": {
        "id": "JghAFw1eDysL",
        "colab": {
          "base_uri": "https://localhost:8080/",
          "height": 34
        },
        "outputId": "0cb8666c-75ef-4e5f-945c-33d1868f3d96"
      },
      "source": [
        "data.duplicated().any()"
      ],
      "execution_count": null,
      "outputs": [
        {
          "output_type": "execute_result",
          "data": {
            "text/plain": [
              "False"
            ]
          },
          "metadata": {
            "tags": []
          },
          "execution_count": 9
        }
      ]
    },
    {
      "cell_type": "code",
      "metadata": {
        "id": "4ZInMnJOD1bm",
        "colab": {
          "base_uri": "https://localhost:8080/",
          "height": 351
        },
        "outputId": "ca3a85de-8854-4140-f1e8-91ac8a36f309"
      },
      "source": [
        "data.describe()"
      ],
      "execution_count": null,
      "outputs": [
        {
          "output_type": "execute_result",
          "data": {
            "text/html": [
              "<div>\n",
              "<style scoped>\n",
              "    .dataframe tbody tr th:only-of-type {\n",
              "        vertical-align: middle;\n",
              "    }\n",
              "\n",
              "    .dataframe tbody tr th {\n",
              "        vertical-align: top;\n",
              "    }\n",
              "\n",
              "    .dataframe thead th {\n",
              "        text-align: right;\n",
              "    }\n",
              "</style>\n",
              "<table border=\"1\" class=\"dataframe\">\n",
              "  <thead>\n",
              "    <tr style=\"text-align: right;\">\n",
              "      <th></th>\n",
              "      <th>Customer ID</th>\n",
              "      <th>Age</th>\n",
              "      <th>Flight Distance</th>\n",
              "      <th>Inflight wifi service</th>\n",
              "      <th>Departure/Arrival time convenient</th>\n",
              "      <th>Ease of Online booking</th>\n",
              "      <th>Gate location</th>\n",
              "      <th>Food and drink</th>\n",
              "      <th>Online boarding</th>\n",
              "      <th>Seat comfort</th>\n",
              "      <th>Inflight entertainment</th>\n",
              "      <th>On-board service</th>\n",
              "      <th>Leg room service</th>\n",
              "      <th>Baggage handling</th>\n",
              "      <th>Checkin service</th>\n",
              "      <th>Inflight service</th>\n",
              "      <th>Cleanliness</th>\n",
              "      <th>Departure Delay in Minutes</th>\n",
              "      <th>Arrival Delay in Minutes</th>\n",
              "      <th>satisfaction</th>\n",
              "    </tr>\n",
              "  </thead>\n",
              "  <tbody>\n",
              "    <tr>\n",
              "      <th>count</th>\n",
              "      <td>129880.000000</td>\n",
              "      <td>129880.000000</td>\n",
              "      <td>129880.000000</td>\n",
              "      <td>129880.00000</td>\n",
              "      <td>129880.000000</td>\n",
              "      <td>129880.000000</td>\n",
              "      <td>129880.000000</td>\n",
              "      <td>129880.000000</td>\n",
              "      <td>129880.000000</td>\n",
              "      <td>129880.000000</td>\n",
              "      <td>129880.000000</td>\n",
              "      <td>129880.000000</td>\n",
              "      <td>129880.000000</td>\n",
              "      <td>129880.000000</td>\n",
              "      <td>129880.000000</td>\n",
              "      <td>129880.000000</td>\n",
              "      <td>129880.000000</td>\n",
              "      <td>129880.000000</td>\n",
              "      <td>129880.000000</td>\n",
              "      <td>129880.000000</td>\n",
              "    </tr>\n",
              "    <tr>\n",
              "      <th>mean</th>\n",
              "      <td>64940.500000</td>\n",
              "      <td>39.427957</td>\n",
              "      <td>1190.316392</td>\n",
              "      <td>2.72868</td>\n",
              "      <td>3.057638</td>\n",
              "      <td>2.756891</td>\n",
              "      <td>2.976933</td>\n",
              "      <td>3.204835</td>\n",
              "      <td>3.252633</td>\n",
              "      <td>3.441354</td>\n",
              "      <td>3.358100</td>\n",
              "      <td>3.383030</td>\n",
              "      <td>3.350901</td>\n",
              "      <td>3.632137</td>\n",
              "      <td>3.306267</td>\n",
              "      <td>3.642216</td>\n",
              "      <td>3.286326</td>\n",
              "      <td>14.713713</td>\n",
              "      <td>15.091129</td>\n",
              "      <td>0.434463</td>\n",
              "    </tr>\n",
              "    <tr>\n",
              "      <th>std</th>\n",
              "      <td>37493.270818</td>\n",
              "      <td>15.119360</td>\n",
              "      <td>997.452477</td>\n",
              "      <td>1.32932</td>\n",
              "      <td>1.526743</td>\n",
              "      <td>1.401726</td>\n",
              "      <td>1.278487</td>\n",
              "      <td>1.329900</td>\n",
              "      <td>1.350696</td>\n",
              "      <td>1.319283</td>\n",
              "      <td>1.334017</td>\n",
              "      <td>1.287094</td>\n",
              "      <td>1.316237</td>\n",
              "      <td>1.180015</td>\n",
              "      <td>1.266179</td>\n",
              "      <td>1.176647</td>\n",
              "      <td>1.313682</td>\n",
              "      <td>38.071126</td>\n",
              "      <td>38.407410</td>\n",
              "      <td>0.495688</td>\n",
              "    </tr>\n",
              "    <tr>\n",
              "      <th>min</th>\n",
              "      <td>1.000000</td>\n",
              "      <td>7.000000</td>\n",
              "      <td>31.000000</td>\n",
              "      <td>0.00000</td>\n",
              "      <td>0.000000</td>\n",
              "      <td>0.000000</td>\n",
              "      <td>0.000000</td>\n",
              "      <td>0.000000</td>\n",
              "      <td>0.000000</td>\n",
              "      <td>0.000000</td>\n",
              "      <td>0.000000</td>\n",
              "      <td>0.000000</td>\n",
              "      <td>0.000000</td>\n",
              "      <td>1.000000</td>\n",
              "      <td>0.000000</td>\n",
              "      <td>0.000000</td>\n",
              "      <td>0.000000</td>\n",
              "      <td>0.000000</td>\n",
              "      <td>0.000000</td>\n",
              "      <td>0.000000</td>\n",
              "    </tr>\n",
              "    <tr>\n",
              "      <th>25%</th>\n",
              "      <td>32470.750000</td>\n",
              "      <td>27.000000</td>\n",
              "      <td>414.000000</td>\n",
              "      <td>2.00000</td>\n",
              "      <td>2.000000</td>\n",
              "      <td>2.000000</td>\n",
              "      <td>2.000000</td>\n",
              "      <td>2.000000</td>\n",
              "      <td>2.000000</td>\n",
              "      <td>2.000000</td>\n",
              "      <td>2.000000</td>\n",
              "      <td>2.000000</td>\n",
              "      <td>2.000000</td>\n",
              "      <td>3.000000</td>\n",
              "      <td>3.000000</td>\n",
              "      <td>3.000000</td>\n",
              "      <td>2.000000</td>\n",
              "      <td>0.000000</td>\n",
              "      <td>0.000000</td>\n",
              "      <td>0.000000</td>\n",
              "    </tr>\n",
              "    <tr>\n",
              "      <th>50%</th>\n",
              "      <td>64940.500000</td>\n",
              "      <td>40.000000</td>\n",
              "      <td>844.000000</td>\n",
              "      <td>3.00000</td>\n",
              "      <td>3.000000</td>\n",
              "      <td>3.000000</td>\n",
              "      <td>3.000000</td>\n",
              "      <td>3.000000</td>\n",
              "      <td>3.000000</td>\n",
              "      <td>4.000000</td>\n",
              "      <td>4.000000</td>\n",
              "      <td>4.000000</td>\n",
              "      <td>4.000000</td>\n",
              "      <td>4.000000</td>\n",
              "      <td>3.000000</td>\n",
              "      <td>4.000000</td>\n",
              "      <td>3.000000</td>\n",
              "      <td>0.000000</td>\n",
              "      <td>0.000000</td>\n",
              "      <td>0.000000</td>\n",
              "    </tr>\n",
              "    <tr>\n",
              "      <th>75%</th>\n",
              "      <td>97410.250000</td>\n",
              "      <td>51.000000</td>\n",
              "      <td>1744.000000</td>\n",
              "      <td>4.00000</td>\n",
              "      <td>4.000000</td>\n",
              "      <td>4.000000</td>\n",
              "      <td>4.000000</td>\n",
              "      <td>4.000000</td>\n",
              "      <td>4.000000</td>\n",
              "      <td>5.000000</td>\n",
              "      <td>4.000000</td>\n",
              "      <td>4.000000</td>\n",
              "      <td>4.000000</td>\n",
              "      <td>5.000000</td>\n",
              "      <td>4.000000</td>\n",
              "      <td>5.000000</td>\n",
              "      <td>4.000000</td>\n",
              "      <td>12.000000</td>\n",
              "      <td>13.000000</td>\n",
              "      <td>1.000000</td>\n",
              "    </tr>\n",
              "    <tr>\n",
              "      <th>max</th>\n",
              "      <td>129880.000000</td>\n",
              "      <td>85.000000</td>\n",
              "      <td>4983.000000</td>\n",
              "      <td>5.00000</td>\n",
              "      <td>5.000000</td>\n",
              "      <td>5.000000</td>\n",
              "      <td>5.000000</td>\n",
              "      <td>5.000000</td>\n",
              "      <td>5.000000</td>\n",
              "      <td>5.000000</td>\n",
              "      <td>5.000000</td>\n",
              "      <td>5.000000</td>\n",
              "      <td>5.000000</td>\n",
              "      <td>5.000000</td>\n",
              "      <td>5.000000</td>\n",
              "      <td>5.000000</td>\n",
              "      <td>5.000000</td>\n",
              "      <td>1592.000000</td>\n",
              "      <td>1584.000000</td>\n",
              "      <td>1.000000</td>\n",
              "    </tr>\n",
              "  </tbody>\n",
              "</table>\n",
              "</div>"
            ],
            "text/plain": [
              "         Customer ID            Age  ...  Arrival Delay in Minutes   satisfaction\n",
              "count  129880.000000  129880.000000  ...             129880.000000  129880.000000\n",
              "mean    64940.500000      39.427957  ...                 15.091129       0.434463\n",
              "std     37493.270818      15.119360  ...                 38.407410       0.495688\n",
              "min         1.000000       7.000000  ...                  0.000000       0.000000\n",
              "25%     32470.750000      27.000000  ...                  0.000000       0.000000\n",
              "50%     64940.500000      40.000000  ...                  0.000000       0.000000\n",
              "75%     97410.250000      51.000000  ...                 13.000000       1.000000\n",
              "max    129880.000000      85.000000  ...               1584.000000       1.000000\n",
              "\n",
              "[8 rows x 20 columns]"
            ]
          },
          "metadata": {
            "tags": []
          },
          "execution_count": 10
        }
      ]
    },
    {
      "cell_type": "code",
      "metadata": {
        "id": "1BB8QuJdD4EJ",
        "colab": {
          "base_uri": "https://localhost:8080/",
          "height": 34
        },
        "outputId": "1e6b9801-ba57-4f2a-9694-03f4c1ea5bac"
      },
      "source": [
        "data.shape"
      ],
      "execution_count": null,
      "outputs": [
        {
          "output_type": "execute_result",
          "data": {
            "text/plain": [
              "(129880, 24)"
            ]
          },
          "metadata": {
            "tags": []
          },
          "execution_count": 11
        }
      ]
    },
    {
      "cell_type": "code",
      "metadata": {
        "id": "lGJpIaDCD8Ru",
        "colab": {
          "base_uri": "https://localhost:8080/",
          "height": 173
        },
        "outputId": "2a8f34ea-13d3-46f7-e933-251007cbd786"
      },
      "source": [
        "data.describe(include = np.object)"
      ],
      "execution_count": null,
      "outputs": [
        {
          "output_type": "execute_result",
          "data": {
            "text/html": [
              "<div>\n",
              "<style scoped>\n",
              "    .dataframe tbody tr th:only-of-type {\n",
              "        vertical-align: middle;\n",
              "    }\n",
              "\n",
              "    .dataframe tbody tr th {\n",
              "        vertical-align: top;\n",
              "    }\n",
              "\n",
              "    .dataframe thead th {\n",
              "        text-align: right;\n",
              "    }\n",
              "</style>\n",
              "<table border=\"1\" class=\"dataframe\">\n",
              "  <thead>\n",
              "    <tr style=\"text-align: right;\">\n",
              "      <th></th>\n",
              "      <th>Gender</th>\n",
              "      <th>Customer Type</th>\n",
              "      <th>Type of Travel</th>\n",
              "      <th>Class</th>\n",
              "    </tr>\n",
              "  </thead>\n",
              "  <tbody>\n",
              "    <tr>\n",
              "      <th>count</th>\n",
              "      <td>129880</td>\n",
              "      <td>129880</td>\n",
              "      <td>129880</td>\n",
              "      <td>129880</td>\n",
              "    </tr>\n",
              "    <tr>\n",
              "      <th>unique</th>\n",
              "      <td>2</td>\n",
              "      <td>2</td>\n",
              "      <td>2</td>\n",
              "      <td>3</td>\n",
              "    </tr>\n",
              "    <tr>\n",
              "      <th>top</th>\n",
              "      <td>Female</td>\n",
              "      <td>Loyal Customer</td>\n",
              "      <td>Business travel</td>\n",
              "      <td>Business</td>\n",
              "    </tr>\n",
              "    <tr>\n",
              "      <th>freq</th>\n",
              "      <td>65899</td>\n",
              "      <td>106100</td>\n",
              "      <td>89693</td>\n",
              "      <td>62160</td>\n",
              "    </tr>\n",
              "  </tbody>\n",
              "</table>\n",
              "</div>"
            ],
            "text/plain": [
              "        Gender   Customer Type   Type of Travel     Class\n",
              "count   129880          129880           129880    129880\n",
              "unique       2               2                2         3\n",
              "top     Female  Loyal Customer  Business travel  Business\n",
              "freq     65899          106100            89693     62160"
            ]
          },
          "metadata": {
            "tags": []
          },
          "execution_count": 12
        }
      ]
    },
    {
      "cell_type": "code",
      "metadata": {
        "id": "WIgekiPkD-zs",
        "colab": {
          "base_uri": "https://localhost:8080/",
          "height": 71
        },
        "outputId": "cbcf5311-3c0b-4655-b7c6-af07aa6d78fd"
      },
      "source": [
        "import matplotlib.pyplot as plt\n",
        "import scipy.stats as stats\n",
        "import seaborn as sns\n",
        "%matplotlib inline"
      ],
      "execution_count": null,
      "outputs": [
        {
          "output_type": "stream",
          "text": [
            "/usr/local/lib/python3.6/dist-packages/statsmodels/tools/_testing.py:19: FutureWarning: pandas.util.testing is deprecated. Use the functions in the public API at pandas.testing instead.\n",
            "  import pandas.util.testing as tm\n"
          ],
          "name": "stderr"
        }
      ]
    },
    {
      "cell_type": "code",
      "metadata": {
        "id": "N6lWr8o0EDCx",
        "colab": {
          "base_uri": "https://localhost:8080/",
          "height": 430
        },
        "outputId": "fce2c90f-f7f5-4ed0-f2ea-c08094d5ac7f"
      },
      "source": [
        "sns.heatmap(data.corr(), square =True )\n",
        "plt.show()"
      ],
      "execution_count": null,
      "outputs": [
        {
          "output_type": "display_data",
          "data": {
            "image/png": "[encoded data removed]",
            "text/plain": [
              "<Figure size 432x288 with 2 Axes>"
            ]
          },
          "metadata": {
            "tags": [],
            "needs_background": "light"
          }
        }
      ]
    },
    {
      "cell_type": "code",
      "metadata": {
        "id": "dWlX6rG9EFtU",
        "colab": {
          "base_uri": "https://localhost:8080/",
          "height": 716
        },
        "outputId": "63f7cd38-a1f4-472b-b8e7-273d915df0f1"
      },
      "source": [
        "histogram = data.hist(figsize=(12, 12), bins = 20)"
      ],
      "execution_count": null,
      "outputs": [
        {
          "output_type": "display_data",
          "data": {
            "image/png": "[encoded data removed]",
            "text/plain": [
              "<Figure size 864x864 with 20 Axes>"
            ]
          },
          "metadata": {
            "tags": [],
            "needs_background": "light"
          }
        }
      ]
    },
    {
      "cell_type": "code",
      "metadata": {
        "id": "DTZdF-29ERJi",
        "colab": {
          "base_uri": "https://localhost:8080/",
          "height": 855
        },
        "outputId": "32cd3747-37a6-4b24-b23d-e1b38c64c44c"
      },
      "source": [
        "#metadata\n",
        "metadata = pd.read_excel('/content/drive/My Drive/Datasets/Worksheet in Analytics_Case_Resolvr2020.xlsx', sheet_name = 1)\n",
        "metadata"
      ],
      "execution_count": null,
      "outputs": [
        {
          "output_type": "execute_result",
          "data": {
            "text/html": [
              "<div>\n",
              "<style scoped>\n",
              "    .dataframe tbody tr th:only-of-type {\n",
              "        vertical-align: middle;\n",
              "    }\n",
              "\n",
              "    .dataframe tbody tr th {\n",
              "        vertical-align: top;\n",
              "    }\n",
              "\n",
              "    .dataframe thead th {\n",
              "        text-align: right;\n",
              "    }\n",
              "</style>\n",
              "<table border=\"1\" class=\"dataframe\">\n",
              "  <thead>\n",
              "    <tr style=\"text-align: right;\">\n",
              "      <th></th>\n",
              "      <th>Unnamed: 0</th>\n",
              "      <th>Data Dictionary</th>\n",
              "      <th>Unnamed: 2</th>\n",
              "    </tr>\n",
              "  </thead>\n",
              "  <tbody>\n",
              "    <tr>\n",
              "      <th>0</th>\n",
              "      <td>NaN</td>\n",
              "      <td>NaN</td>\n",
              "      <td>NaN</td>\n",
              "    </tr>\n",
              "    <tr>\n",
              "      <th>1</th>\n",
              "      <td>NaN</td>\n",
              "      <td>Variable</td>\n",
              "      <td>Description</td>\n",
              "    </tr>\n",
              "    <tr>\n",
              "      <th>2</th>\n",
              "      <td>NaN</td>\n",
              "      <td>Customer ID</td>\n",
              "      <td>Id of the customer</td>\n",
              "    </tr>\n",
              "    <tr>\n",
              "      <th>3</th>\n",
              "      <td>NaN</td>\n",
              "      <td>Gender</td>\n",
              "      <td>Gender of the passengers (Female, Male)</td>\n",
              "    </tr>\n",
              "    <tr>\n",
              "      <th>4</th>\n",
              "      <td>NaN</td>\n",
              "      <td>Customer Type</td>\n",
              "      <td>The customer type (Loyal customer, disloyal c...</td>\n",
              "    </tr>\n",
              "    <tr>\n",
              "      <th>5</th>\n",
              "      <td>NaN</td>\n",
              "      <td>Age</td>\n",
              "      <td>The actual age of the passengers</td>\n",
              "    </tr>\n",
              "    <tr>\n",
              "      <th>6</th>\n",
              "      <td>NaN</td>\n",
              "      <td>Type of Travel</td>\n",
              "      <td>Purpose of the flight of the passengers (Pers...</td>\n",
              "    </tr>\n",
              "    <tr>\n",
              "      <th>7</th>\n",
              "      <td>NaN</td>\n",
              "      <td>Class</td>\n",
              "      <td>Travel class in the plane of the passengers (...</td>\n",
              "    </tr>\n",
              "    <tr>\n",
              "      <th>8</th>\n",
              "      <td>NaN</td>\n",
              "      <td>Flight distance</td>\n",
              "      <td>The flight distance of this journey</td>\n",
              "    </tr>\n",
              "    <tr>\n",
              "      <th>9</th>\n",
              "      <td>NaN</td>\n",
              "      <td>Inflight Wi-Fi service</td>\n",
              "      <td>Satisfaction level of the inflight wifi servi...</td>\n",
              "    </tr>\n",
              "    <tr>\n",
              "      <th>10</th>\n",
              "      <td>NaN</td>\n",
              "      <td>Departure/Arrival time convenient</td>\n",
              "      <td>Satisfaction level of Departure/Arrival time ...</td>\n",
              "    </tr>\n",
              "    <tr>\n",
              "      <th>11</th>\n",
              "      <td>NaN</td>\n",
              "      <td>Ease of Online booking</td>\n",
              "      <td>Satisfaction level of online booking</td>\n",
              "    </tr>\n",
              "    <tr>\n",
              "      <th>12</th>\n",
              "      <td>NaN</td>\n",
              "      <td>Gate location</td>\n",
              "      <td>Satisfaction level of Gate location</td>\n",
              "    </tr>\n",
              "    <tr>\n",
              "      <th>13</th>\n",
              "      <td>NaN</td>\n",
              "      <td>Food and drink</td>\n",
              "      <td>Satisfaction level of Food and drink</td>\n",
              "    </tr>\n",
              "    <tr>\n",
              "      <th>14</th>\n",
              "      <td>NaN</td>\n",
              "      <td>Online boarding</td>\n",
              "      <td>Satisfaction level of online boarding</td>\n",
              "    </tr>\n",
              "    <tr>\n",
              "      <th>15</th>\n",
              "      <td>NaN</td>\n",
              "      <td>Seat comfort</td>\n",
              "      <td>Satisfaction level of Seat comfort</td>\n",
              "    </tr>\n",
              "    <tr>\n",
              "      <th>16</th>\n",
              "      <td>NaN</td>\n",
              "      <td>Inflight entertainment</td>\n",
              "      <td>Satisfaction level of inflight entertainment</td>\n",
              "    </tr>\n",
              "    <tr>\n",
              "      <th>17</th>\n",
              "      <td>NaN</td>\n",
              "      <td>On-board service</td>\n",
              "      <td>Satisfaction level of On-board service</td>\n",
              "    </tr>\n",
              "    <tr>\n",
              "      <th>18</th>\n",
              "      <td>NaN</td>\n",
              "      <td>Leg room service</td>\n",
              "      <td>Satisfaction level of Leg room service</td>\n",
              "    </tr>\n",
              "    <tr>\n",
              "      <th>19</th>\n",
              "      <td>NaN</td>\n",
              "      <td>Baggage handling</td>\n",
              "      <td>Satisfaction level of baggage handling</td>\n",
              "    </tr>\n",
              "    <tr>\n",
              "      <th>20</th>\n",
              "      <td>NaN</td>\n",
              "      <td>Check-in service</td>\n",
              "      <td>Satisfaction level of Check-in service</td>\n",
              "    </tr>\n",
              "    <tr>\n",
              "      <th>21</th>\n",
              "      <td>NaN</td>\n",
              "      <td>Inflight service</td>\n",
              "      <td>Satisfaction level of inflight service</td>\n",
              "    </tr>\n",
              "    <tr>\n",
              "      <th>22</th>\n",
              "      <td>NaN</td>\n",
              "      <td>Cleanliness</td>\n",
              "      <td>Satisfaction level of Cleanliness</td>\n",
              "    </tr>\n",
              "    <tr>\n",
              "      <th>23</th>\n",
              "      <td>NaN</td>\n",
              "      <td>Departure Delay in Minutes</td>\n",
              "      <td>Minutes delayed when departure</td>\n",
              "    </tr>\n",
              "    <tr>\n",
              "      <th>24</th>\n",
              "      <td>NaN</td>\n",
              "      <td>Arrival Delay in Minutes</td>\n",
              "      <td>Minutes delayed when Arrival</td>\n",
              "    </tr>\n",
              "    <tr>\n",
              "      <th>25</th>\n",
              "      <td>NaN</td>\n",
              "      <td>Satisfaction</td>\n",
              "      <td>1 = Satisfied; 0 =  Dissatisfied</td>\n",
              "    </tr>\n",
              "  </tbody>\n",
              "</table>\n",
              "</div>"
            ],
            "text/plain": [
              "    Unnamed: 0  ...                                         Unnamed: 2\n",
              "0          NaN  ...                                                NaN\n",
              "1          NaN  ...                                        Description\n",
              "2          NaN  ...                                 Id of the customer\n",
              "3          NaN  ...            Gender of the passengers (Female, Male)\n",
              "4          NaN  ...   The customer type (Loyal customer, disloyal c...\n",
              "5          NaN  ...                   The actual age of the passengers\n",
              "6          NaN  ...   Purpose of the flight of the passengers (Pers...\n",
              "7          NaN  ...   Travel class in the plane of the passengers (...\n",
              "8          NaN  ...               The flight distance of this journey \n",
              "9          NaN  ...   Satisfaction level of the inflight wifi servi...\n",
              "10         NaN  ...   Satisfaction level of Departure/Arrival time ...\n",
              "11         NaN  ...               Satisfaction level of online booking\n",
              "12         NaN  ...                Satisfaction level of Gate location\n",
              "13         NaN  ...               Satisfaction level of Food and drink\n",
              "14         NaN  ...              Satisfaction level of online boarding\n",
              "15         NaN  ...                 Satisfaction level of Seat comfort\n",
              "16         NaN  ...       Satisfaction level of inflight entertainment\n",
              "17         NaN  ...             Satisfaction level of On-board service\n",
              "18         NaN  ...             Satisfaction level of Leg room service\n",
              "19         NaN  ...             Satisfaction level of baggage handling\n",
              "20         NaN  ...             Satisfaction level of Check-in service\n",
              "21         NaN  ...             Satisfaction level of inflight service\n",
              "22         NaN  ...                  Satisfaction level of Cleanliness\n",
              "23         NaN  ...                     Minutes delayed when departure\n",
              "24         NaN  ...                       Minutes delayed when Arrival\n",
              "25         NaN  ...                   1 = Satisfied; 0 =  Dissatisfied\n",
              "\n",
              "[26 rows x 3 columns]"
            ]
          },
          "metadata": {
            "tags": []
          },
          "execution_count": 16
        }
      ]
    },
    {
      "cell_type": "code",
      "metadata": {
        "id": "OjvpHioJK4tY"
      },
      "source": [
        "#base modeling\n",
        "from sklearn import preprocessing, metrics\n",
        "from sklearn.metrics import plot_confusion_matrix\n",
        "import lightgbm as lgb"
      ],
      "execution_count": null,
      "outputs": []
    },
    {
      "cell_type": "code",
      "metadata": {
        "id": "GYJwnftSNGES"
      },
      "source": [
        "#data splitting and model functions\n",
        "def get_data_splits(dataframe, valid_fraction = 0.1):\n",
        "  valid_rows = int(len(dataframe) * valid_fraction)\n",
        "  train = dataframe[: -valid_rows * 2]\n",
        "  valid = dataframe[-valid_rows * 2 : -valid_rows]\n",
        "  test = dataframe[- valid_rows : ]\n",
        "\n",
        "  return train, valid, test\n",
        "\n",
        "def train_model(train, valid, test = None, feature_cols = None):\n",
        "  if feature_cols is None:\n",
        "    feature_cols = train.columns.drop(['satisfaction'])\n",
        "\n",
        "  dtrain = lgb.Dataset(train[feature_cols], label = train['satisfaction'])\n",
        "  dvalid = lgb.Dataset(valid[feature_cols], label = valid['satisfaction'])\n",
        "\n",
        "  param = {'num_leaves': 64, 'objective':'binary', 'metric': 'auc', 'seed' : 7}\n",
        "  num_round = 1000\n",
        "  bst = lgb.train(param, dtrain, num_round, valid_sets = [dvalid],\n",
        "                  early_stopping_rounds = 20, verbose_eval = False)\n",
        "  \n",
        "  valid_pred = bst.predict(valid[feature_cols])\n",
        "  valid_score = metrics.roc_auc_score(valid['satisfaction'], valid_pred)\n",
        "  print(f\"Validation AUC score: {valid_score}\")\n",
        "\n",
        "  if test is not None:\n",
        "    test_pred = bst.predict(test[feature_cols])\n",
        "    test_score = metrics.roc_auc_score(test['satisfaction'], test_pred)\n",
        "    return bst, valid_score, test_score\n",
        "\n",
        "  else:\n",
        "    return bst, valid_score  \n"
      ],
      "execution_count": null,
      "outputs": []
    },
    {
      "cell_type": "code",
      "metadata": {
        "id": "eYFFPoffh0E8"
      },
      "source": [
        "#creating a data copy to see labelencoding performance\n",
        "le_data = data.copy()"
      ],
      "execution_count": null,
      "outputs": []
    },
    {
      "cell_type": "code",
      "metadata": {
        "id": "ShSMYutBiHfX",
        "colab": {
          "base_uri": "https://localhost:8080/",
          "height": 360
        },
        "outputId": "47cd7b2f-5602-43d4-965a-6d1fdf20f561"
      },
      "source": [
        "le_data.head(5)"
      ],
      "execution_count": null,
      "outputs": [
        {
          "output_type": "execute_result",
          "data": {
            "text/html": [
              "<div>\n",
              "<style scoped>\n",
              "    .dataframe tbody tr th:only-of-type {\n",
              "        vertical-align: middle;\n",
              "    }\n",
              "\n",
              "    .dataframe tbody tr th {\n",
              "        vertical-align: top;\n",
              "    }\n",
              "\n",
              "    .dataframe thead th {\n",
              "        text-align: right;\n",
              "    }\n",
              "</style>\n",
              "<table border=\"1\" class=\"dataframe\">\n",
              "  <thead>\n",
              "    <tr style=\"text-align: right;\">\n",
              "      <th></th>\n",
              "      <th>Customer ID</th>\n",
              "      <th>Gender</th>\n",
              "      <th>Customer Type</th>\n",
              "      <th>Age</th>\n",
              "      <th>Type of Travel</th>\n",
              "      <th>Class</th>\n",
              "      <th>Flight Distance</th>\n",
              "      <th>Inflight wifi service</th>\n",
              "      <th>Departure/Arrival time convenient</th>\n",
              "      <th>Ease of Online booking</th>\n",
              "      <th>Gate location</th>\n",
              "      <th>Food and drink</th>\n",
              "      <th>Online boarding</th>\n",
              "      <th>Seat comfort</th>\n",
              "      <th>Inflight entertainment</th>\n",
              "      <th>On-board service</th>\n",
              "      <th>Leg room service</th>\n",
              "      <th>Baggage handling</th>\n",
              "      <th>Checkin service</th>\n",
              "      <th>Inflight service</th>\n",
              "      <th>Cleanliness</th>\n",
              "      <th>Departure Delay in Minutes</th>\n",
              "      <th>Arrival Delay in Minutes</th>\n",
              "      <th>satisfaction</th>\n",
              "    </tr>\n",
              "  </thead>\n",
              "  <tbody>\n",
              "    <tr>\n",
              "      <th>0</th>\n",
              "      <td>70172</td>\n",
              "      <td>Male</td>\n",
              "      <td>Loyal Customer</td>\n",
              "      <td>13</td>\n",
              "      <td>Personal Travel</td>\n",
              "      <td>Eco Plus</td>\n",
              "      <td>460</td>\n",
              "      <td>3.0</td>\n",
              "      <td>4.0</td>\n",
              "      <td>3.0</td>\n",
              "      <td>1.0</td>\n",
              "      <td>5.0</td>\n",
              "      <td>3.0</td>\n",
              "      <td>5.0</td>\n",
              "      <td>5.0</td>\n",
              "      <td>4.0</td>\n",
              "      <td>3.0</td>\n",
              "      <td>4.0</td>\n",
              "      <td>4.0</td>\n",
              "      <td>5.0</td>\n",
              "      <td>5.0</td>\n",
              "      <td>25</td>\n",
              "      <td>18.0</td>\n",
              "      <td>0</td>\n",
              "    </tr>\n",
              "    <tr>\n",
              "      <th>1</th>\n",
              "      <td>5047</td>\n",
              "      <td>Male</td>\n",
              "      <td>disloyal Customer</td>\n",
              "      <td>25</td>\n",
              "      <td>Business travel</td>\n",
              "      <td>Business</td>\n",
              "      <td>235</td>\n",
              "      <td>3.0</td>\n",
              "      <td>2.0</td>\n",
              "      <td>3.0</td>\n",
              "      <td>3.0</td>\n",
              "      <td>1.0</td>\n",
              "      <td>3.0</td>\n",
              "      <td>1.0</td>\n",
              "      <td>1.0</td>\n",
              "      <td>1.0</td>\n",
              "      <td>5.0</td>\n",
              "      <td>3.0</td>\n",
              "      <td>1.0</td>\n",
              "      <td>4.0</td>\n",
              "      <td>1.0</td>\n",
              "      <td>1</td>\n",
              "      <td>6.0</td>\n",
              "      <td>0</td>\n",
              "    </tr>\n",
              "    <tr>\n",
              "      <th>2</th>\n",
              "      <td>110028</td>\n",
              "      <td>Female</td>\n",
              "      <td>Loyal Customer</td>\n",
              "      <td>26</td>\n",
              "      <td>Business travel</td>\n",
              "      <td>Business</td>\n",
              "      <td>1142</td>\n",
              "      <td>2.0</td>\n",
              "      <td>2.0</td>\n",
              "      <td>2.0</td>\n",
              "      <td>2.0</td>\n",
              "      <td>5.0</td>\n",
              "      <td>5.0</td>\n",
              "      <td>5.0</td>\n",
              "      <td>5.0</td>\n",
              "      <td>4.0</td>\n",
              "      <td>3.0</td>\n",
              "      <td>4.0</td>\n",
              "      <td>4.0</td>\n",
              "      <td>4.0</td>\n",
              "      <td>5.0</td>\n",
              "      <td>0</td>\n",
              "      <td>0.0</td>\n",
              "      <td>1</td>\n",
              "    </tr>\n",
              "    <tr>\n",
              "      <th>3</th>\n",
              "      <td>24026</td>\n",
              "      <td>Female</td>\n",
              "      <td>Loyal Customer</td>\n",
              "      <td>25</td>\n",
              "      <td>Business travel</td>\n",
              "      <td>Business</td>\n",
              "      <td>562</td>\n",
              "      <td>2.0</td>\n",
              "      <td>5.0</td>\n",
              "      <td>5.0</td>\n",
              "      <td>5.0</td>\n",
              "      <td>2.0</td>\n",
              "      <td>2.0</td>\n",
              "      <td>2.0</td>\n",
              "      <td>2.0</td>\n",
              "      <td>2.0</td>\n",
              "      <td>5.0</td>\n",
              "      <td>3.0</td>\n",
              "      <td>1.0</td>\n",
              "      <td>4.0</td>\n",
              "      <td>2.0</td>\n",
              "      <td>11</td>\n",
              "      <td>9.0</td>\n",
              "      <td>0</td>\n",
              "    </tr>\n",
              "    <tr>\n",
              "      <th>4</th>\n",
              "      <td>119299</td>\n",
              "      <td>Male</td>\n",
              "      <td>Loyal Customer</td>\n",
              "      <td>61</td>\n",
              "      <td>Business travel</td>\n",
              "      <td>Business</td>\n",
              "      <td>214</td>\n",
              "      <td>3.0</td>\n",
              "      <td>3.0</td>\n",
              "      <td>3.0</td>\n",
              "      <td>3.0</td>\n",
              "      <td>4.0</td>\n",
              "      <td>5.0</td>\n",
              "      <td>5.0</td>\n",
              "      <td>3.0</td>\n",
              "      <td>3.0</td>\n",
              "      <td>4.0</td>\n",
              "      <td>4.0</td>\n",
              "      <td>3.0</td>\n",
              "      <td>3.0</td>\n",
              "      <td>3.0</td>\n",
              "      <td>0</td>\n",
              "      <td>0.0</td>\n",
              "      <td>1</td>\n",
              "    </tr>\n",
              "  </tbody>\n",
              "</table>\n",
              "</div>"
            ],
            "text/plain": [
              "   Customer ID  Gender  ... Arrival Delay in Minutes  satisfaction\n",
              "0        70172    Male  ...                     18.0             0\n",
              "1         5047    Male  ...                      6.0             0\n",
              "2       110028  Female  ...                      0.0             1\n",
              "3        24026  Female  ...                      9.0             0\n",
              "4       119299    Male  ...                      0.0             1\n",
              "\n",
              "[5 rows x 24 columns]"
            ]
          },
          "metadata": {
            "tags": []
          },
          "execution_count": 20
        }
      ]
    },
    {
      "cell_type": "markdown",
      "metadata": {
        "id": "_thaswF5eRVr"
      },
      "source": [
        "**Label Encoding**"
      ]
    },
    {
      "cell_type": "code",
      "metadata": {
        "id": "P8a4UavNOaAe",
        "colab": {
          "base_uri": "https://localhost:8080/",
          "height": 360
        },
        "outputId": "d491fe65-485d-40b4-ab2b-5d6c7c18b466"
      },
      "source": [
        "#preprocessing\n",
        "cat_features = ['Gender',\t'Customer Type',\t'Type of Travel',\t'Class']\n",
        "encoder = preprocessing.LabelEncoder()\n",
        "\n",
        "#create new columns in data using LabelEncoder\n",
        "for feature in cat_features:\n",
        "  encoded = encoder.fit_transform(le_data[feature])\n",
        "  le_data[feature + '_labels'] = encoded\n",
        "\n",
        "le_data.head(5)  "
      ],
      "execution_count": null,
      "outputs": [
        {
          "output_type": "execute_result",
          "data": {
            "text/html": [
              "<div>\n",
              "<style scoped>\n",
              "    .dataframe tbody tr th:only-of-type {\n",
              "        vertical-align: middle;\n",
              "    }\n",
              "\n",
              "    .dataframe tbody tr th {\n",
              "        vertical-align: top;\n",
              "    }\n",
              "\n",
              "    .dataframe thead th {\n",
              "        text-align: right;\n",
              "    }\n",
              "</style>\n",
              "<table border=\"1\" class=\"dataframe\">\n",
              "  <thead>\n",
              "    <tr style=\"text-align: right;\">\n",
              "      <th></th>\n",
              "      <th>Customer ID</th>\n",
              "      <th>Gender</th>\n",
              "      <th>Customer Type</th>\n",
              "      <th>Age</th>\n",
              "      <th>Type of Travel</th>\n",
              "      <th>Class</th>\n",
              "      <th>Flight Distance</th>\n",
              "      <th>Inflight wifi service</th>\n",
              "      <th>Departure/Arrival time convenient</th>\n",
              "      <th>Ease of Online booking</th>\n",
              "      <th>Gate location</th>\n",
              "      <th>Food and drink</th>\n",
              "      <th>Online boarding</th>\n",
              "      <th>Seat comfort</th>\n",
              "      <th>Inflight entertainment</th>\n",
              "      <th>On-board service</th>\n",
              "      <th>Leg room service</th>\n",
              "      <th>Baggage handling</th>\n",
              "      <th>Checkin service</th>\n",
              "      <th>Inflight service</th>\n",
              "      <th>Cleanliness</th>\n",
              "      <th>Departure Delay in Minutes</th>\n",
              "      <th>Arrival Delay in Minutes</th>\n",
              "      <th>satisfaction</th>\n",
              "      <th>Gender_labels</th>\n",
              "      <th>Customer Type_labels</th>\n",
              "      <th>Type of Travel_labels</th>\n",
              "      <th>Class_labels</th>\n",
              "    </tr>\n",
              "  </thead>\n",
              "  <tbody>\n",
              "    <tr>\n",
              "      <th>0</th>\n",
              "      <td>70172</td>\n",
              "      <td>Male</td>\n",
              "      <td>Loyal Customer</td>\n",
              "      <td>13</td>\n",
              "      <td>Personal Travel</td>\n",
              "      <td>Eco Plus</td>\n",
              "      <td>460</td>\n",
              "      <td>3.0</td>\n",
              "      <td>4.0</td>\n",
              "      <td>3.0</td>\n",
              "      <td>1.0</td>\n",
              "      <td>5.0</td>\n",
              "      <td>3.0</td>\n",
              "      <td>5.0</td>\n",
              "      <td>5.0</td>\n",
              "      <td>4.0</td>\n",
              "      <td>3.0</td>\n",
              "      <td>4.0</td>\n",
              "      <td>4.0</td>\n",
              "      <td>5.0</td>\n",
              "      <td>5.0</td>\n",
              "      <td>25</td>\n",
              "      <td>18.0</td>\n",
              "      <td>0</td>\n",
              "      <td>1</td>\n",
              "      <td>0</td>\n",
              "      <td>1</td>\n",
              "      <td>2</td>\n",
              "    </tr>\n",
              "    <tr>\n",
              "      <th>1</th>\n",
              "      <td>5047</td>\n",
              "      <td>Male</td>\n",
              "      <td>disloyal Customer</td>\n",
              "      <td>25</td>\n",
              "      <td>Business travel</td>\n",
              "      <td>Business</td>\n",
              "      <td>235</td>\n",
              "      <td>3.0</td>\n",
              "      <td>2.0</td>\n",
              "      <td>3.0</td>\n",
              "      <td>3.0</td>\n",
              "      <td>1.0</td>\n",
              "      <td>3.0</td>\n",
              "      <td>1.0</td>\n",
              "      <td>1.0</td>\n",
              "      <td>1.0</td>\n",
              "      <td>5.0</td>\n",
              "      <td>3.0</td>\n",
              "      <td>1.0</td>\n",
              "      <td>4.0</td>\n",
              "      <td>1.0</td>\n",
              "      <td>1</td>\n",
              "      <td>6.0</td>\n",
              "      <td>0</td>\n",
              "      <td>1</td>\n",
              "      <td>1</td>\n",
              "      <td>0</td>\n",
              "      <td>0</td>\n",
              "    </tr>\n",
              "    <tr>\n",
              "      <th>2</th>\n",
              "      <td>110028</td>\n",
              "      <td>Female</td>\n",
              "      <td>Loyal Customer</td>\n",
              "      <td>26</td>\n",
              "      <td>Business travel</td>\n",
              "      <td>Business</td>\n",
              "      <td>1142</td>\n",
              "      <td>2.0</td>\n",
              "      <td>2.0</td>\n",
              "      <td>2.0</td>\n",
              "      <td>2.0</td>\n",
              "      <td>5.0</td>\n",
              "      <td>5.0</td>\n",
              "      <td>5.0</td>\n",
              "      <td>5.0</td>\n",
              "      <td>4.0</td>\n",
              "      <td>3.0</td>\n",
              "      <td>4.0</td>\n",
              "      <td>4.0</td>\n",
              "      <td>4.0</td>\n",
              "      <td>5.0</td>\n",
              "      <td>0</td>\n",
              "      <td>0.0</td>\n",
              "      <td>1</td>\n",
              "      <td>0</td>\n",
              "      <td>0</td>\n",
              "      <td>0</td>\n",
              "      <td>0</td>\n",
              "    </tr>\n",
              "    <tr>\n",
              "      <th>3</th>\n",
              "      <td>24026</td>\n",
              "      <td>Female</td>\n",
              "      <td>Loyal Customer</td>\n",
              "      <td>25</td>\n",
              "      <td>Business travel</td>\n",
              "      <td>Business</td>\n",
              "      <td>562</td>\n",
              "      <td>2.0</td>\n",
              "      <td>5.0</td>\n",
              "      <td>5.0</td>\n",
              "      <td>5.0</td>\n",
              "      <td>2.0</td>\n",
              "      <td>2.0</td>\n",
              "      <td>2.0</td>\n",
              "      <td>2.0</td>\n",
              "      <td>2.0</td>\n",
              "      <td>5.0</td>\n",
              "      <td>3.0</td>\n",
              "      <td>1.0</td>\n",
              "      <td>4.0</td>\n",
              "      <td>2.0</td>\n",
              "      <td>11</td>\n",
              "      <td>9.0</td>\n",
              "      <td>0</td>\n",
              "      <td>0</td>\n",
              "      <td>0</td>\n",
              "      <td>0</td>\n",
              "      <td>0</td>\n",
              "    </tr>\n",
              "    <tr>\n",
              "      <th>4</th>\n",
              "      <td>119299</td>\n",
              "      <td>Male</td>\n",
              "      <td>Loyal Customer</td>\n",
              "      <td>61</td>\n",
              "      <td>Business travel</td>\n",
              "      <td>Business</td>\n",
              "      <td>214</td>\n",
              "      <td>3.0</td>\n",
              "      <td>3.0</td>\n",
              "      <td>3.0</td>\n",
              "      <td>3.0</td>\n",
              "      <td>4.0</td>\n",
              "      <td>5.0</td>\n",
              "      <td>5.0</td>\n",
              "      <td>3.0</td>\n",
              "      <td>3.0</td>\n",
              "      <td>4.0</td>\n",
              "      <td>4.0</td>\n",
              "      <td>3.0</td>\n",
              "      <td>3.0</td>\n",
              "      <td>3.0</td>\n",
              "      <td>0</td>\n",
              "      <td>0.0</td>\n",
              "      <td>1</td>\n",
              "      <td>1</td>\n",
              "      <td>0</td>\n",
              "      <td>0</td>\n",
              "      <td>0</td>\n",
              "    </tr>\n",
              "  </tbody>\n",
              "</table>\n",
              "</div>"
            ],
            "text/plain": [
              "   Customer ID  Gender  ... Type of Travel_labels  Class_labels\n",
              "0        70172    Male  ...                     1             2\n",
              "1         5047    Male  ...                     0             0\n",
              "2       110028  Female  ...                     0             0\n",
              "3        24026  Female  ...                     0             0\n",
              "4       119299    Male  ...                     0             0\n",
              "\n",
              "[5 rows x 28 columns]"
            ]
          },
          "metadata": {
            "tags": []
          },
          "execution_count": 21
        }
      ]
    },
    {
      "cell_type": "code",
      "metadata": {
        "id": "9vCahOuDPGWD",
        "colab": {
          "base_uri": "https://localhost:8080/",
          "height": 34
        },
        "outputId": "bebd9c32-866c-4e4b-ecd6-1d9903546638"
      },
      "source": [
        "#feature engineering after LabelEncoding\n",
        "feature_cols = ['Age', 'Flight Distance',\t'Inflight wifi service', 'Departure/Arrival time convenient',\t'Ease of Online booking',\t'Gate location',\t'Food and drink',\t'Online boarding',\t'Seat comfort',\t'Inflight entertainment',\t'On-board service',\t'Leg room service',\t'Baggage handling',\t'Checkin service',\t'Inflight service',\t'Cleanliness',\t'Departure Delay in Minutes',\t'Arrival Delay in Minutes',\t'Gender_labels',\t'Customer Type_labels',\t'Type of Travel_labels',\t'Class_labels']\n",
        "train, valid, test = get_data_splits(le_data)\n",
        "_ = train_model(train, valid, feature_cols = feature_cols)"
      ],
      "execution_count": null,
      "outputs": [
        {
          "output_type": "stream",
          "text": [
            "Validation AUC score: 0.9957136015700723\n"
          ],
          "name": "stdout"
        }
      ]
    },
    {
      "cell_type": "code",
      "metadata": {
        "id": "iYFnQbBbUP2y",
        "colab": {
          "base_uri": "https://localhost:8080/",
          "height": 34
        },
        "outputId": "f4fb3508-f195-4f14-a99e-99f178ea4339"
      },
      "source": [
        "#checking model performance by removing Delay departure in minutes\n",
        "feature_cols = ['Age', 'Flight Distance',\t'Inflight wifi service', 'Departure/Arrival time convenient',\t'Ease of Online booking',\t'Gate location',\t'Food and drink',\t'Online boarding',\t'Seat comfort',\t'Inflight entertainment',\t'On-board service',\t'Leg room service',\t'Baggage handling',\t'Checkin service',\t'Inflight service',\t'Cleanliness','Arrival Delay in Minutes',\t'Gender_labels',\t'Customer Type_labels',\t'Type of Travel_labels',\t'Class_labels']\n",
        "train, valid, test = get_data_splits(le_data)\n",
        "_ = train_model(train, valid, feature_cols = feature_cols)"
      ],
      "execution_count": null,
      "outputs": [
        {
          "output_type": "stream",
          "text": [
            "Validation AUC score: 0.9957108546665132\n"
          ],
          "name": "stdout"
        }
      ]
    },
    {
      "cell_type": "markdown",
      "metadata": {
        "id": "-LVxWQDjUuMu"
      },
      "source": [
        "Removing one delay variable has no significant effect as they are highly correlated!"
      ]
    },
    {
      "cell_type": "markdown",
      "metadata": {
        "id": "urg4EpOPfN25"
      },
      "source": [
        "**Count Encoding**"
      ]
    },
    {
      "cell_type": "code",
      "metadata": {
        "id": "YVGMy-jy3_Mk",
        "colab": {
          "base_uri": "https://localhost:8080/",
          "height": 204
        },
        "outputId": "7964269b-d3a8-4449-9e3f-d59a8e8b3d54"
      },
      "source": [
        "pip install category-encoders"
      ],
      "execution_count": null,
      "outputs": [
        {
          "output_type": "stream",
          "text": [
            "Requirement already satisfied: category-encoders in /usr/local/lib/python3.6/dist-packages (2.2.2)\n",
            "Requirement already satisfied: statsmodels>=0.9.0 in /usr/local/lib/python3.6/dist-packages (from category-encoders) (0.10.2)\n",
            "Requirement already satisfied: numpy>=1.14.0 in /usr/local/lib/python3.6/dist-packages (from category-encoders) (1.18.5)\n",
            "Requirement already satisfied: patsy>=0.5.1 in /usr/local/lib/python3.6/dist-packages (from category-encoders) (0.5.1)\n",
            "Requirement already satisfied: scikit-learn>=0.20.0 in /usr/local/lib/python3.6/dist-packages (from category-encoders) (0.22.2.post1)\n",
            "Requirement already satisfied: scipy>=1.0.0 in /usr/local/lib/python3.6/dist-packages (from category-encoders) (1.4.1)\n",
            "Requirement already satisfied: pandas>=0.21.1 in /usr/local/lib/python3.6/dist-packages (from category-encoders) (1.0.5)\n",
            "Requirement already satisfied: six in /usr/local/lib/python3.6/dist-packages (from patsy>=0.5.1->category-encoders) (1.15.0)\n",
            "Requirement already satisfied: joblib>=0.11 in /usr/local/lib/python3.6/dist-packages (from scikit-learn>=0.20.0->category-encoders) (0.16.0)\n",
            "Requirement already satisfied: python-dateutil>=2.6.1 in /usr/local/lib/python3.6/dist-packages (from pandas>=0.21.1->category-encoders) (2.8.1)\n",
            "Requirement already satisfied: pytz>=2017.2 in /usr/local/lib/python3.6/dist-packages (from pandas>=0.21.1->category-encoders) (2018.9)\n"
          ],
          "name": "stdout"
        }
      ]
    },
    {
      "cell_type": "code",
      "metadata": {
        "id": "rFY1g6lUfLpO"
      },
      "source": [
        "import category_encoders as ce\n",
        "\n",
        "train, valid, test = get_data_splits(data)\n"
      ],
      "execution_count": null,
      "outputs": []
    },
    {
      "cell_type": "code",
      "metadata": {
        "id": "YQW8zFp9fMbv",
        "colab": {
          "base_uri": "https://localhost:8080/",
          "height": 34
        },
        "outputId": "c267c078-7943-4b82-aaea-dd22d11a632f"
      },
      "source": [
        "#Create the count encoder\n",
        "cat_features = ['Gender',\t'Customer Type',\t'Type of Travel',\t'Class']\n",
        "count_enc = ce.CountEncoder(cols = cat_features)\n",
        "#learn encoding from train set\n",
        "count_enc.fit(train[cat_features])\n",
        "\n",
        "#applying encodings to the train and validation sets as new column\n",
        "train_encoded = train.join(count_enc.transform(train[cat_features]).add_suffix('_count'))\n",
        "valid_encoded = valid.join(count_enc.transform(valid[cat_features]).add_suffix('_count'))\n",
        "feature_cols = ['Age', 'Flight Distance',\t'Inflight wifi service', 'Departure/Arrival time convenient',\t'Ease of Online booking',\t'Gate location',\t'Food and drink',\t'Online boarding',\t'Seat comfort',\t'Inflight entertainment',\t'On-board service',\t'Leg room service',\t'Baggage handling',\t'Checkin service',\t'Inflight service',\t'Cleanliness','Arrival Delay in Minutes',\t'Gender_count',\t'Customer Type_count',\t'Type of Travel_count',\t'Class_count']\n",
        "_ = train_model(train_encoded, valid_encoded, feature_cols = feature_cols)"
      ],
      "execution_count": null,
      "outputs": [
        {
          "output_type": "stream",
          "text": [
            "Validation AUC score: 0.9957108546665132\n"
          ],
          "name": "stdout"
        }
      ]
    },
    {
      "cell_type": "markdown",
      "metadata": {
        "id": "lVf82H3ln1AX"
      },
      "source": [
        "Similar performance compared to LabelEncoder"
      ]
    },
    {
      "cell_type": "markdown",
      "metadata": {
        "id": "j7qtiM3cmtjp"
      },
      "source": [
        "**Target Encoding**"
      ]
    },
    {
      "cell_type": "code",
      "metadata": {
        "id": "1BJESUdGfMvk",
        "colab": {
          "base_uri": "https://localhost:8080/",
          "height": 34
        },
        "outputId": "b617a630-fc13-4c33-fc23-355f0abc9a07"
      },
      "source": [
        "#Create the target encoder\n",
        "cat_features = ['Gender',\t'Customer Type',\t'Type of Travel',\t'Class']\n",
        "target_enc = ce.TargetEncoder(cols = cat_features)\n",
        "#learn encoding from train set\n",
        "target_enc.fit(train[cat_features], train['satisfaction'])\n",
        "\n",
        "#applying encodings to the train and validation sets as new column\n",
        "train_encoded = train.join(target_enc.transform(train[cat_features]).add_suffix('_target'))\n",
        "valid_encoded = valid.join(target_enc.transform(valid[cat_features]).add_suffix('_target'))\n",
        "feature_cols = ['Age', 'Flight Distance',\t'Inflight wifi service', 'Departure/Arrival time convenient',\t'Ease of Online booking',\t'Gate location',\t'Food and drink',\t'Online boarding',\t'Seat comfort',\t'Inflight entertainment',\t'On-board service',\t'Leg room service',\t'Baggage handling',\t'Checkin service',\t'Inflight service',\t'Cleanliness','Arrival Delay in Minutes',\t'Gender_target',\t'Customer Type_target',\t'Type of Travel_target',\t'Class_target']\n",
        "_ = train_model(train_encoded, valid_encoded, feature_cols = feature_cols)"
      ],
      "execution_count": null,
      "outputs": [
        {
          "output_type": "stream",
          "text": [
            "Validation AUC score: 0.9958640788746852\n"
          ],
          "name": "stdout"
        }
      ]
    },
    {
      "cell_type": "markdown",
      "metadata": {
        "id": "koGAIze8n6c_"
      },
      "source": [
        "Slight improvement in performance with TargetEncoder"
      ]
    },
    {
      "cell_type": "markdown",
      "metadata": {
        "id": "Y73hFPz6eB9A"
      },
      "source": [
        "**CatBoost Encoding**"
      ]
    },
    {
      "cell_type": "code",
      "metadata": {
        "id": "elv-UzIUoJcV",
        "colab": {
          "base_uri": "https://localhost:8080/",
          "height": 34
        },
        "outputId": "7000a931-c8a7-4da7-f9fb-ff95df3efd12"
      },
      "source": [
        "#Create the target encoder\n",
        "cat_features = ['Gender',\t'Customer Type',\t'Type of Travel',\t'Class']\n",
        "cb_enc = ce.CatBoostEncoder(cols = cat_features, random_state = 7)\n",
        "#learn encoding from train set\n",
        "cb_enc.fit(train[cat_features], train['satisfaction'])\n",
        "\n",
        "#applying encodings to the train and validation sets as new column\n",
        "train_encoded = train.join(cb_enc.transform(train[cat_features]).add_suffix('_cb'))\n",
        "valid_encoded = valid.join(cb_enc.transform(valid[cat_features]).add_suffix('_cb'))\n",
        "test_encoded  = test.join(cb_enc.transform(test[cat_features]).add_suffix('_cb'))\n",
        "feature_cols = ['Age', 'Flight Distance',\t'Inflight wifi service', 'Departure/Arrival time convenient',\t'Ease of Online booking',\t'Gate location',\t'Food and drink',\t'Online boarding',\t'Seat comfort',\t'Inflight entertainment',\t'On-board service',\t'Leg room service',\t'Baggage handling',\t'Checkin service',\t'Inflight service',\t'Cleanliness','Arrival Delay in Minutes',\t'Gender_cb',\t'Customer Type_cb',\t'Type of Travel_cb',\t'Class_cb']\n",
        "_ = train_model(train_encoded, valid_encoded, feature_cols = feature_cols)"
      ],
      "execution_count": null,
      "outputs": [
        {
          "output_type": "stream",
          "text": [
            "Validation AUC score: 0.9958640788746852\n"
          ],
          "name": "stdout"
        }
      ]
    },
    {
      "cell_type": "markdown",
      "metadata": {
        "id": "w13y5Jsvu3IU"
      },
      "source": [
        "**Using XGBoost model**"
      ]
    },
    {
      "cell_type": "code",
      "metadata": {
        "id": "8V_OwOHno6xY"
      },
      "source": [
        "from xgboost import XGBClassifier\n",
        "XGB_model = XGBClassifier(random_state = 7)\n",
        "XGB_model.fit(train_encoded[feature_cols], train['satisfaction'])\n",
        "\n",
        "#predictions\n",
        "XGB_pred = XGB_model.predict(valid_encoded[feature_cols])"
      ],
      "execution_count": null,
      "outputs": []
    },
    {
      "cell_type": "code",
      "metadata": {
        "id": "NcK468Y5wAkl",
        "colab": {
          "base_uri": "https://localhost:8080/",
          "height": 34
        },
        "outputId": "f3d23468-52c2-49c1-fa27-257ad118b184"
      },
      "source": [
        "#checking model performance\n",
        "XGB_score = metrics.roc_auc_score(valid_encoded['satisfaction'], XGB_pred)\n",
        "print(f\"Validation AUC score: {XGB_score}\")"
      ],
      "execution_count": null,
      "outputs": [
        {
          "output_type": "stream",
          "text": [
            "Validation AUC score: 0.9383996154335019\n"
          ],
          "name": "stdout"
        }
      ]
    },
    {
      "cell_type": "code",
      "metadata": {
        "id": "AG6sztoZwsaV",
        "colab": {
          "base_uri": "https://localhost:8080/",
          "height": 170
        },
        "outputId": "cc9fbf75-73f2-4ae6-e00e-48c4567ab9f5"
      },
      "source": [
        "#classification report for XGBClassifier\n",
        "from sklearn.metrics import classification_report\n",
        "print(classification_report(valid_encoded['satisfaction'], XGB_pred, digits = 4))"
      ],
      "execution_count": null,
      "outputs": [
        {
          "output_type": "stream",
          "text": [
            "              precision    recall  f1-score   support\n",
            "\n",
            "           0     0.9363    0.9610    0.9485      7313\n",
            "           1     0.9480    0.9158    0.9316      5675\n",
            "\n",
            "    accuracy                         0.9413     12988\n",
            "   macro avg     0.9422    0.9384    0.9401     12988\n",
            "weighted avg     0.9414    0.9413    0.9411     12988\n",
            "\n"
          ],
          "name": "stdout"
        }
      ]
    },
    {
      "cell_type": "code",
      "metadata": {
        "id": "9CQKwmIV19Ns",
        "colab": {
          "base_uri": "https://localhost:8080/",
          "height": 299
        },
        "outputId": "1623c96d-8051-4dcc-a73b-98554744ac8b"
      },
      "source": [
        "#confusion matrix\n",
        "plot_confusion_matrix(XGB_model, valid_encoded[feature_cols], valid_encoded['satisfaction'], values_format = 'd')"
      ],
      "execution_count": null,
      "outputs": [
        {
          "output_type": "execute_result",
          "data": {
            "text/plain": [
              "<sklearn.metrics._plot.confusion_matrix.ConfusionMatrixDisplay at 0x7f42b4028908>"
            ]
          },
          "metadata": {
            "tags": []
          },
          "execution_count": 32
        },
        {
          "output_type": "display_data",
          "data": {
            "image/png": "[encoded data removed]",
            "text/plain": [
              "<Figure size 432x288 with 2 Axes>"
            ]
          },
          "metadata": {
            "tags": [],
            "needs_background": "light"
          }
        }
      ]
    },
    {
      "cell_type": "markdown",
      "metadata": {
        "id": "7K7grmtUydhP"
      },
      "source": [
        "**Random Forest Classifier model**"
      ]
    },
    {
      "cell_type": "code",
      "metadata": {
        "id": "L5g_31cmxXGM"
      },
      "source": [
        "from sklearn.ensemble import RandomForestClassifier\n",
        "RandomFor_model = RandomForestClassifier(random_state = 7)\n",
        "\n",
        "RandomFor_model.fit(train_encoded[feature_cols], train['satisfaction'])\n",
        "\n",
        "#predictions\n",
        "Random_pred = RandomFor_model.predict(valid_encoded[feature_cols])"
      ],
      "execution_count": null,
      "outputs": []
    },
    {
      "cell_type": "code",
      "metadata": {
        "id": "NX0u-GSmzHBA",
        "colab": {
          "base_uri": "https://localhost:8080/",
          "height": 34
        },
        "outputId": "e052e7cf-615f-4bf0-cc40-307d258db168"
      },
      "source": [
        "#checking model performance\n",
        "RF_score = metrics.roc_auc_score(valid_encoded['satisfaction'], Random_pred)\n",
        "print(f\"Validation AUC score: {RF_score}\")"
      ],
      "execution_count": null,
      "outputs": [
        {
          "output_type": "stream",
          "text": [
            "Validation AUC score: 0.9614017521148447\n"
          ],
          "name": "stdout"
        }
      ]
    },
    {
      "cell_type": "code",
      "metadata": {
        "id": "VrfTPocjzUMs",
        "colab": {
          "base_uri": "https://localhost:8080/",
          "height": 170
        },
        "outputId": "e18dfa34-ad24-4c49-bdca-5c8074dcd674"
      },
      "source": [
        "#classification report\n",
        "from sklearn.metrics import classification_report\n",
        "print(classification_report(valid_encoded['satisfaction'], Random_pred, digits = 4))"
      ],
      "execution_count": null,
      "outputs": [
        {
          "output_type": "stream",
          "text": [
            "              precision    recall  f1-score   support\n",
            "\n",
            "           0     0.9559    0.9811    0.9684      7313\n",
            "           1     0.9748    0.9417    0.9580      5675\n",
            "\n",
            "    accuracy                         0.9639     12988\n",
            "   macro avg     0.9654    0.9614    0.9632     12988\n",
            "weighted avg     0.9642    0.9639    0.9638     12988\n",
            "\n"
          ],
          "name": "stdout"
        }
      ]
    },
    {
      "cell_type": "code",
      "metadata": {
        "id": "LNADlBdG12AK",
        "colab": {
          "base_uri": "https://localhost:8080/",
          "height": 296
        },
        "outputId": "6ef7cd80-2d84-4d43-a480-680cb512d0a4"
      },
      "source": [
        "#confusion matrix\n",
        "plot_confusion_matrix(RandomFor_model, valid_encoded[feature_cols], valid_encoded['satisfaction'], values_format = 'd')"
      ],
      "execution_count": null,
      "outputs": [
        {
          "output_type": "execute_result",
          "data": {
            "text/plain": [
              "<sklearn.metrics._plot.confusion_matrix.ConfusionMatrixDisplay at 0x7f42b7dfce10>"
            ]
          },
          "metadata": {
            "tags": []
          },
          "execution_count": 36
        },
        {
          "output_type": "display_data",
          "data": {
            "image/png": "[encoded data removed]",
            "text/plain": [
              "<Figure size 432x288 with 2 Axes>"
            ]
          },
          "metadata": {
            "tags": [],
            "needs_background": "light"
          }
        }
      ]
    },
    {
      "cell_type": "markdown",
      "metadata": {
        "id": "ar4ZLuVzznKr"
      },
      "source": [
        "**ExtraTrees Classifier model**"
      ]
    },
    {
      "cell_type": "code",
      "metadata": {
        "id": "M8aII2qtzekP"
      },
      "source": [
        "from sklearn.ensemble import ExtraTreesClassifier\n",
        "ExtraTrees_model = ExtraTreesClassifier(random_state = 7)\n",
        "ExtraTrees_model.fit(train_encoded[feature_cols], train['satisfaction'])\n",
        "\n",
        "#predictions\n",
        "ExtraTrees_pred = ExtraTrees_model.predict(valid_encoded[feature_cols])"
      ],
      "execution_count": null,
      "outputs": []
    },
    {
      "cell_type": "code",
      "metadata": {
        "id": "ikGYV1Ohz7Is",
        "colab": {
          "base_uri": "https://localhost:8080/",
          "height": 34
        },
        "outputId": "9fdf62a5-6de2-4b11-fa77-e8ecfa6dfe53"
      },
      "source": [
        "#checking model performance\n",
        "ExtraTrees_score = metrics.roc_auc_score(valid_encoded['satisfaction'], ExtraTrees_pred)\n",
        "print(f\"Validation AUC score: {ExtraTrees_score}\")"
      ],
      "execution_count": null,
      "outputs": [
        {
          "output_type": "stream",
          "text": [
            "Validation AUC score: 0.9598961839124222\n"
          ],
          "name": "stdout"
        }
      ]
    },
    {
      "cell_type": "code",
      "metadata": {
        "id": "GGXdJuyc0Hsr",
        "colab": {
          "base_uri": "https://localhost:8080/",
          "height": 170
        },
        "outputId": "6c4dff28-b2f3-4abd-f4f9-359caa5530af"
      },
      "source": [
        "#classification report for\n",
        "from sklearn.metrics import classification_report\n",
        "print(classification_report(valid_encoded['satisfaction'], ExtraTrees_pred, digits = 4))"
      ],
      "execution_count": null,
      "outputs": [
        {
          "output_type": "stream",
          "text": [
            "              precision    recall  f1-score   support\n",
            "\n",
            "           0     0.9549    0.9794    0.9670      7313\n",
            "           1     0.9725    0.9404    0.9562      5675\n",
            "\n",
            "    accuracy                         0.9623     12988\n",
            "   macro avg     0.9637    0.9599    0.9616     12988\n",
            "weighted avg     0.9626    0.9623    0.9623     12988\n",
            "\n"
          ],
          "name": "stdout"
        }
      ]
    },
    {
      "cell_type": "code",
      "metadata": {
        "id": "LzjHHBy91wyZ",
        "colab": {
          "base_uri": "https://localhost:8080/",
          "height": 296
        },
        "outputId": "24f745c1-8304-4bdc-e4c7-bf95819dbd53"
      },
      "source": [
        "#confusion matrix\n",
        "plot_confusion_matrix(ExtraTrees_model, valid_encoded[feature_cols], valid_encoded['satisfaction'], values_format = 'd')"
      ],
      "execution_count": null,
      "outputs": [
        {
          "output_type": "execute_result",
          "data": {
            "text/plain": [
              "<sklearn.metrics._plot.confusion_matrix.ConfusionMatrixDisplay at 0x7f42b890b898>"
            ]
          },
          "metadata": {
            "tags": []
          },
          "execution_count": 40
        },
        {
          "output_type": "display_data",
          "data": {
            "image/png": "[encoded data removed]",
            "text/plain": [
              "<Figure size 432x288 with 2 Axes>"
            ]
          },
          "metadata": {
            "tags": [],
            "needs_background": "light"
          }
        }
      ]
    },
    {
      "cell_type": "markdown",
      "metadata": {
        "id": "l063cGoe1AOe"
      },
      "source": [
        "**LightGBM model**"
      ]
    },
    {
      "cell_type": "code",
      "metadata": {
        "id": "9ZTsRzIh0Pl-"
      },
      "source": [
        "from lightgbm import LGBMClassifier\n",
        "LGBM_model = LGBMClassifier(random_state = 7,n_estimators=5000,n_jobs=-1)\n",
        "LGBM_model.fit(train_encoded[feature_cols], train['satisfaction'])\n",
        "\n",
        "#predictions\n",
        "LGBM_pred = LGBM_model.predict(valid_encoded[feature_cols])"
      ],
      "execution_count": null,
      "outputs": []
    },
    {
      "cell_type": "code",
      "metadata": {
        "id": "DWQ8ue0o0n_S",
        "colab": {
          "base_uri": "https://localhost:8080/",
          "height": 34
        },
        "outputId": "c822a4af-fa90-4b7d-a8e8-b4bb44f07c89"
      },
      "source": [
        "#checking model validation performance\n",
        "LGBM_score = metrics.roc_auc_score(valid_encoded['satisfaction'], LGBM_pred)\n",
        "print(f\"Validation AUC score: {LGBM_score}\")"
      ],
      "execution_count": null,
      "outputs": [
        {
          "output_type": "stream",
          "text": [
            "Validation AUC score: 0.9622277990254516\n"
          ],
          "name": "stdout"
        }
      ]
    },
    {
      "cell_type": "code",
      "metadata": {
        "id": "XKRnEA5R0zxj",
        "colab": {
          "base_uri": "https://localhost:8080/",
          "height": 170
        },
        "outputId": "a91d4a0a-08c9-4b0d-82fd-14ae40fdb610"
      },
      "source": [
        "#classification report validation\n",
        "from sklearn.metrics import classification_report\n",
        "print(classification_report(valid_encoded['satisfaction'], LGBM_pred, digits = 4))"
      ],
      "execution_count": null,
      "outputs": [
        {
          "output_type": "stream",
          "text": [
            "              precision    recall  f1-score   support\n",
            "\n",
            "           0     0.9594    0.9778    0.9685      7313\n",
            "           1     0.9707    0.9466    0.9585      5675\n",
            "\n",
            "    accuracy                         0.9642     12988\n",
            "   macro avg     0.9650    0.9622    0.9635     12988\n",
            "weighted avg     0.9643    0.9642    0.9641     12988\n",
            "\n"
          ],
          "name": "stdout"
        }
      ]
    },
    {
      "cell_type": "code",
      "metadata": {
        "id": "6KLG-BCsM8CP"
      },
      "source": [
        "LGBM_train_pred = LGBM_model.predict(train_encoded[feature_cols])"
      ],
      "execution_count": null,
      "outputs": []
    },
    {
      "cell_type": "code",
      "metadata": {
        "id": "RMgD84bHbeMg"
      },
      "source": [
        "LGBM_test_pred = LGBM_model.predict(test_encoded[feature_cols])"
      ],
      "execution_count": null,
      "outputs": []
    },
    {
      "cell_type": "code",
      "metadata": {
        "id": "wuEHI6LtbKkC",
        "colab": {
          "base_uri": "https://localhost:8080/"
        },
        "outputId": "73dfb567-7025-4db3-fb05-da8e2c27ee5f"
      },
      "source": [
        "#classification report testing\n",
        "print(classification_report(test_encoded['satisfaction'], LGBM_test_pred, digits = 4))"
      ],
      "execution_count": null,
      "outputs": [
        {
          "output_type": "stream",
          "text": [
            "              precision    recall  f1-score   support\n",
            "\n",
            "           0     0.9568    0.9760    0.9663      7260\n",
            "           1     0.9688    0.9441    0.9563      5728\n",
            "\n",
            "    accuracy                         0.9620     12988\n",
            "   macro avg     0.9628    0.9601    0.9613     12988\n",
            "weighted avg     0.9621    0.9620    0.9619     12988\n",
            "\n"
          ],
          "name": "stdout"
        }
      ]
    },
    {
      "cell_type": "code",
      "metadata": {
        "id": "kCXHEziVT7pJ",
        "colab": {
          "base_uri": "https://localhost:8080/"
        },
        "outputId": "a6adb4cc-7b21-477f-b654-cf4647016bc3"
      },
      "source": [
        "#checking model training performance\n",
        "LGBM_train_score = metrics.roc_auc_score(train_encoded['satisfaction'], LGBM_train_pred)\n",
        "print(f\"Training AUC score: {LGBM_train_score}\")"
      ],
      "execution_count": null,
      "outputs": [
        {
          "output_type": "stream",
          "text": [
            "Training AUC score: 1.0\n"
          ],
          "name": "stdout"
        }
      ]
    },
    {
      "cell_type": "code",
      "metadata": {
        "id": "0h7ShVc2Mwe-",
        "colab": {
          "base_uri": "https://localhost:8080/"
        },
        "outputId": "1c60db8b-b2ff-49fb-c551-3fa3877fd483"
      },
      "source": [
        "#classification report for training\n",
        "print(classification_report(train_encoded['satisfaction'], LGBM_train_pred, digits = 4))"
      ],
      "execution_count": null,
      "outputs": [
        {
          "output_type": "stream",
          "text": [
            "              precision    recall  f1-score   support\n",
            "\n",
            "           0     1.0000    1.0000    1.0000     58879\n",
            "           1     1.0000    1.0000    1.0000     45025\n",
            "\n",
            "    accuracy                         1.0000    103904\n",
            "   macro avg     1.0000    1.0000    1.0000    103904\n",
            "weighted avg     1.0000    1.0000    1.0000    103904\n",
            "\n"
          ],
          "name": "stdout"
        }
      ]
    },
    {
      "cell_type": "code",
      "metadata": {
        "id": "_D9wEgpQ1OSp",
        "colab": {
          "base_uri": "https://localhost:8080/",
          "height": 296
        },
        "outputId": "53437ac6-4397-45be-bc22-387946359c0f"
      },
      "source": [
        "#confusion matrix for validation\n",
        "plot_confusion_matrix(LGBM_model, valid_encoded[feature_cols], valid_encoded['satisfaction'], values_format = 'd')"
      ],
      "execution_count": null,
      "outputs": [
        {
          "output_type": "execute_result",
          "data": {
            "text/plain": [
              "<sklearn.metrics._plot.confusion_matrix.ConfusionMatrixDisplay at 0x7f42ba6574a8>"
            ]
          },
          "metadata": {
            "tags": []
          },
          "execution_count": 49
        },
        {
          "output_type": "display_data",
          "data": {
            "image/png": "[encoded data removed]",
            "text/plain": [
              "<Figure size 432x288 with 2 Axes>"
            ]
          },
          "metadata": {
            "tags": [],
            "needs_background": "light"
          }
        }
      ]
    },
    {
      "cell_type": "code",
      "metadata": {
        "id": "jCjF18qndA_r",
        "colab": {
          "base_uri": "https://localhost:8080/",
          "height": 298
        },
        "outputId": "62c5576d-9223-46a1-b363-41a2e9b2bc6c"
      },
      "source": [
        "#confusion matrix test\n",
        "plot_confusion_matrix(LGBM_model, test_encoded[feature_cols], test_encoded['satisfaction'], values_format = 'd')"
      ],
      "execution_count": null,
      "outputs": [
        {
          "output_type": "execute_result",
          "data": {
            "text/plain": [
              "<sklearn.metrics._plot.confusion_matrix.ConfusionMatrixDisplay at 0x7f42b98b7c18>"
            ]
          },
          "metadata": {
            "tags": []
          },
          "execution_count": 50
        },
        {
          "output_type": "display_data",
          "data": {
            "image/png": "[encoded data removed]",
            "text/plain": [
              "<Figure size 432x288 with 2 Axes>"
            ]
          },
          "metadata": {
            "tags": [],
            "needs_background": "light"
          }
        }
      ]
    },
    {
      "cell_type": "code",
      "metadata": {
        "id": "H0nszwL08J0H",
        "colab": {
          "base_uri": "https://localhost:8080/"
        },
        "outputId": "6dc77355-d712-44af-dbb2-4742a1502ea0"
      },
      "source": [
        "#plotting feature importance\n",
        "import lightgbm\n",
        "lightgbm.plot_importance(LGBM_model, ax=None, height=0.2, xlim=None, ylim=None, title='Feature importance', xlabel='Feature importance', ylabel='Features', importance_type='split')"
      ],
      "execution_count": null,
      "outputs": [
        {
          "output_type": "execute_result",
          "data": {
            "text/plain": [
              "<matplotlib.axes._subplots.AxesSubplot at 0x7f42b83ecac8>"
            ]
          },
          "metadata": {
            "tags": []
          },
          "execution_count": 51
        },
        {
          "output_type": "display_data",
          "data": {
            "image/png": "[encoded data removed]",
            "text/plain": [
              "<Figure size 432x288 with 1 Axes>"
            ]
          },
          "metadata": {
            "tags": [],
            "needs_background": "light"
          }
        }
      ]
    },
    {
      "cell_type": "code",
      "metadata": {
        "id": "KH_Kin0uacCT",
        "colab": {
          "base_uri": "https://localhost:8080/",
          "height": 298
        },
        "outputId": "6ec8a2f7-fefb-42e5-c435-d66fa8773141"
      },
      "source": [
        "#confusion matrix for test\n",
        "plot_confusion_matrix(LGBM_model, test_encoded[feature_cols], test_encoded['satisfaction'], values_format = 'd')"
      ],
      "execution_count": null,
      "outputs": [
        {
          "output_type": "execute_result",
          "data": {
            "text/plain": [
              "<sklearn.metrics._plot.confusion_matrix.ConfusionMatrixDisplay at 0x7f42a6222198>"
            ]
          },
          "metadata": {
            "tags": []
          },
          "execution_count": 52
        },
        {
          "output_type": "display_data",
          "data": {
            "image/png": "[encoded data removed]",
            "text/plain": [
              "<Figure size 432x288 with 2 Axes>"
            ]
          },
          "metadata": {
            "tags": [],
            "needs_background": "light"
          }
        }
      ]
    },
    {
      "cell_type": "markdown",
      "metadata": {
        "id": "kG7xtvNj7RzX"
      },
      "source": [
        "**Using Logistic Regression**"
      ]
    },
    {
      "cell_type": "code",
      "metadata": {
        "id": "Vef3pdNu7RLZ",
        "colab": {
          "base_uri": "https://localhost:8080/",
          "height": 153
        },
        "outputId": "3d8da1c5-9e90-4d6f-e106-0576831d56f6"
      },
      "source": [
        "from sklearn.linear_model import LogisticRegression\n",
        "Logistic_model = LogisticRegression(random_state = 7)\n",
        "\n",
        "Logistic_model.fit(train_encoded[feature_cols], train['satisfaction'])\n",
        "Logistic_pred = Logistic_model.predict(valid_encoded[feature_cols])"
      ],
      "execution_count": null,
      "outputs": [
        {
          "output_type": "stream",
          "text": [
            "/usr/local/lib/python3.6/dist-packages/sklearn/linear_model/_logistic.py:940: ConvergenceWarning: lbfgs failed to converge (status=1):\n",
            "STOP: TOTAL NO. of ITERATIONS REACHED LIMIT.\n",
            "\n",
            "Increase the number of iterations (max_iter) or scale the data as shown in:\n",
            "    https://scikit-learn.org/stable/modules/preprocessing.html\n",
            "Please also refer to the documentation for alternative solver options:\n",
            "    https://scikit-learn.org/stable/modules/linear_model.html#logistic-regression\n",
            "  extra_warning_msg=_LOGISTIC_SOLVER_CONVERGENCE_MSG)\n"
          ],
          "name": "stderr"
        }
      ]
    },
    {
      "cell_type": "code",
      "metadata": {
        "id": "vmy6P3NY8bjl",
        "colab": {
          "base_uri": "https://localhost:8080/",
          "height": 34
        },
        "outputId": "96cd8004-e42d-4e3c-b3cb-416169720032"
      },
      "source": [
        "#checking model performance\n",
        "Logistic_score = metrics.roc_auc_score(valid_encoded['satisfaction'], Logistic_pred)\n",
        "print(f\"Validation AUC score: {Logistic_score}\")"
      ],
      "execution_count": null,
      "outputs": [
        {
          "output_type": "stream",
          "text": [
            "Validation AUC score: 0.7590164037128979\n"
          ],
          "name": "stdout"
        }
      ]
    }
  ]
}